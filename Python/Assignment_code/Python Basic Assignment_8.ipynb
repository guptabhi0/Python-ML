{
 "cells": [
  {
   "cell_type": "markdown",
   "metadata": {},
   "source": [
    "1. Write a Python Program to Add Two Matrices?\n"
   ]
  },
  {
   "cell_type": "code",
   "execution_count": 1,
   "metadata": {},
   "outputs": [],
   "source": [
    "A = [[1, 4, 5, 12], \n",
    "    [-5, 8, 9, 0],\n",
    "    [-6, 7, 11, 19]]\n",
    "b = [[2,3,5,6],\n",
    "     [5,3,2,5],\n",
    "     [34,43,2,5]]"
   ]
  },
  {
   "cell_type": "code",
   "execution_count": 2,
   "metadata": {},
   "outputs": [],
   "source": [
    "sum = [[0,0,0,0],\n",
    "       [0,0,0,0],\n",
    "       [0,0,0,0]]"
   ]
  },
  {
   "cell_type": "code",
   "execution_count": 3,
   "metadata": {},
   "outputs": [],
   "source": [
    "for i in range(len(A)):\n",
    "    for j in range(len(A[0])):\n",
    "        sum[i][j] = A[i][j] + b[i][j]"
   ]
  },
  {
   "cell_type": "code",
   "execution_count": 4,
   "metadata": {},
   "outputs": [
    {
     "data": {
      "text/plain": [
       "[[3, 7, 10, 18], [0, 11, 11, 5], [28, 50, 13, 24]]"
      ]
     },
     "execution_count": 4,
     "metadata": {},
     "output_type": "execute_result"
    }
   ],
   "source": [
    "sum"
   ]
  },
  {
   "cell_type": "markdown",
   "metadata": {},
   "source": [
    "2. Write a Python Program to Multiply Two Matrices?\n"
   ]
  },
  {
   "cell_type": "code",
   "execution_count": 5,
   "metadata": {},
   "outputs": [],
   "source": [
    "mu =  [[0,0,0,0],\n",
    "       [0,0,0,0],\n",
    "       [0,0,0,0]]\n",
    "# 3x3 matrix\n",
    "a_1 = [[12,7,3],\n",
    "    [4 ,5,6],\n",
    "    [7 ,8,9]]\n",
    "# 3x4 matrix\n",
    "b_1 = [[5,8,1,2],\n",
    "    [6,7,3,0],\n",
    "    [4,5,9,1]]\n",
    "\n",
    "for i in range(len(a_1)):\n",
    "    \n",
    "    for j in range(len(b_1[0])):\n",
    "        \n",
    "        for k in range(len(a_1)):\n",
    "            mu[i][j] += a_1[i][k] * b_1[k][j]"
   ]
  },
  {
   "cell_type": "code",
   "execution_count": 6,
   "metadata": {},
   "outputs": [
    {
     "data": {
      "text/plain": [
       "[[114, 160, 60, 27], [74, 97, 73, 14], [119, 157, 112, 23]]"
      ]
     },
     "execution_count": 6,
     "metadata": {},
     "output_type": "execute_result"
    }
   ],
   "source": [
    "mu"
   ]
  },
  {
   "cell_type": "markdown",
   "metadata": {},
   "source": [
    "3. Write a Python Program to Transpose a Matrix?\n"
   ]
  },
  {
   "cell_type": "code",
   "execution_count": 7,
   "metadata": {},
   "outputs": [],
   "source": [
    "a_2 =  [[0,0,0],\n",
    "       [0,0,0],\n",
    "       [0,0,0]]\n",
    "\n",
    "for i in range(len(a_1)):\n",
    "    \n",
    "    for j in range(len(a_1[0])):\n",
    "        \n",
    "        a_2[j][i] = a_1[i][j]\n",
    "\n",
    "a_1 = a_2 "
   ]
  },
  {
   "cell_type": "code",
   "execution_count": 8,
   "metadata": {},
   "outputs": [
    {
     "data": {
      "text/plain": [
       "[[12, 4, 7], [7, 5, 8], [3, 6, 9]]"
      ]
     },
     "execution_count": 8,
     "metadata": {},
     "output_type": "execute_result"
    }
   ],
   "source": [
    "a_1"
   ]
  },
  {
   "cell_type": "markdown",
   "metadata": {},
   "source": [
    "4. Write a Python Program to Sort Words in Alphabetic Order?\n"
   ]
  },
  {
   "cell_type": "code",
   "execution_count": 9,
   "metadata": {},
   "outputs": [
    {
     "name": "stdout",
     "output_type": "stream",
     "text": [
      "The sorted words are:\n",
      "Example Hello Is With an cased letters this "
     ]
    }
   ],
   "source": [
    "my_str = \"Hello this Is an Example With cased letters\"\n",
    "\n",
    "words = [word for word in my_str.split()]\n",
    "\n",
    "words.sort()\n",
    "\n",
    "\n",
    "print(\"The sorted words are:\")\n",
    "for word in words:\n",
    "    print(word, end =' ')\n"
   ]
  },
  {
   "cell_type": "markdown",
   "metadata": {},
   "source": [
    "5. Write a Python Program to Remove Punctuation From a String?"
   ]
  },
  {
   "cell_type": "code",
   "execution_count": 10,
   "metadata": {},
   "outputs": [],
   "source": [
    "my_str1 = \"Hello this Is, an Example With cased letters!\"\n",
    "\n",
    "punctuations = '''!()-[]{};:'\"\\,<>./?@#$%^&*_~'''\n",
    "\n",
    "for x in my_str1.lower():\n",
    "    if x in punctuations:\n",
    "        my_str1 = my_str1.replace(x,'')\n",
    "        "
   ]
  },
  {
   "cell_type": "code",
   "execution_count": 11,
   "metadata": {},
   "outputs": [
    {
     "data": {
      "text/plain": [
       "'Hello this Is an Example With cased letters'"
      ]
     },
     "execution_count": 11,
     "metadata": {},
     "output_type": "execute_result"
    }
   ],
   "source": [
    "my_str1"
   ]
  }
 ],
 "metadata": {
  "kernelspec": {
   "display_name": "Python 3",
   "language": "python",
   "name": "python3"
  },
  "language_info": {
   "codemirror_mode": {
    "name": "ipython",
    "version": 3
   },
   "file_extension": ".py",
   "mimetype": "text/x-python",
   "name": "python",
   "nbconvert_exporter": "python",
   "pygments_lexer": "ipython3",
   "version": "3.8.3"
  }
 },
 "nbformat": 4,
 "nbformat_minor": 4
}
