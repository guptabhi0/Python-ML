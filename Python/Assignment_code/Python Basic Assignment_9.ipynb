{
 "cells": [
  {
   "cell_type": "markdown",
   "metadata": {},
   "source": [
    "1. Write a Python program to check if the given number is a Disarium Number?\n"
   ]
  },
  {
   "cell_type": "code",
   "execution_count": 1,
   "metadata": {},
   "outputs": [],
   "source": [
    "num = 89\n",
    "c =[]\n",
    "xx = num\n",
    "b_1 = num\n",
    "n =0 \n",
    "while b_1 > 0:\n",
    "    b_1 //= 10\n",
    "    n += 1\n",
    "    \n",
    "for i in range(1,n+1):\n",
    "    a = xx % 10**i\n",
    "    d = xx - a\n",
    "    xx = d \n",
    "    c.append(a/(10**(i-1)))\n",
    "    #print(c[i-1])"
   ]
  },
  {
   "cell_type": "code",
   "execution_count": 2,
   "metadata": {},
   "outputs": [
    {
     "name": "stdout",
     "output_type": "stream",
     "text": [
      "Entered number 89 is Disarium Number\n"
     ]
    }
   ],
   "source": [
    "sum = 0\n",
    "for i in range(len(c)):\n",
    "    sum = sum + c[len(c)-i-1]**(i+1)\n",
    "    \n",
    "if sum == num:\n",
    "    print(\"Entered number {} is Disarium Number\".format(num))\n",
    "else:\n",
    "    print(\"Entered number {} is not Disarium Number\".format(num))    \n",
    " "
   ]
  },
  {
   "cell_type": "markdown",
   "metadata": {},
   "source": [
    "2. Write a Python program to print all disarium numbers between 1 to 100?\n"
   ]
  },
  {
   "cell_type": "code",
   "execution_count": 3,
   "metadata": {
    "scrolled": true
   },
   "outputs": [
    {
     "name": "stdout",
     "output_type": "stream",
     "text": [
      "Entered number 1 is Disarium Number\n",
      "Entered number 2 is Disarium Number\n",
      "Entered number 3 is Disarium Number\n",
      "Entered number 4 is Disarium Number\n",
      "Entered number 5 is Disarium Number\n",
      "Entered number 6 is Disarium Number\n",
      "Entered number 7 is Disarium Number\n",
      "Entered number 8 is Disarium Number\n",
      "Entered number 9 is Disarium Number\n",
      "Entered number 89 is Disarium Number\n"
     ]
    }
   ],
   "source": [
    "\n",
    "for ii in range(1,101):\n",
    "    c =[]\n",
    "    xx = ii\n",
    "    b_1 = ii\n",
    "    n =0 \n",
    "    sum = 0\n",
    "    while b_1 > 0:\n",
    "        b_1 //= 10\n",
    "        n += 1\n",
    "\n",
    "    for i in range(1,n+1):\n",
    "        a = xx % 10**i\n",
    "        d = xx - a\n",
    "        xx = d \n",
    "        c.append(a/(10**(i-1)))\n",
    "        #print(c[i-1])\n",
    "\n",
    "    for i in range(len(c)):\n",
    "        sum = sum + c[len(c)-i-1]**(i+1)\n",
    "\n",
    "    if sum == ii:\n",
    "        print(\"Entered number {} is Disarium Number\".format(ii))\n",
    "   # else:\n",
    "     #   print(\"Entered number {} is not Disarium Number\".format(ii))  "
   ]
  },
  {
   "cell_type": "markdown",
   "metadata": {},
   "source": [
    "3. Write a Python program to check if the given number is Happy Number?\n"
   ]
  },
  {
   "cell_type": "code",
   "execution_count": 28,
   "metadata": {},
   "outputs": [],
   "source": [
    "def happy(nu):\n",
    "    if nu == 1:\n",
    "        return (\"Number is happy number\")\n",
    "    elif nu == 4:\n",
    "        return (\"Number is not happy number\")\n",
    "    else:\n",
    "        b_1 = nu\n",
    "        xx = nu\n",
    "        sum = 0\n",
    "        n_1 = 0\n",
    "        c =[]\n",
    "        while b_1 > 0:\n",
    "            b_1 //= 10\n",
    "            n_1 += 1\n",
    "\n",
    "        for i in range(1,n_1+1):\n",
    "            a = xx % 10**i\n",
    "            d = xx - a\n",
    "            xx = d \n",
    "            c.append(a/(10**(i-1)))\n",
    "        for i in range(n_1):\n",
    "            sum = sum + c[i]**2\n",
    "        #print(sum)\n",
    "        return happy(sum)"
   ]
  },
  {
   "cell_type": "code",
   "execution_count": 29,
   "metadata": {
    "scrolled": false
   },
   "outputs": [
    {
     "data": {
      "text/plain": [
       "'Number is happy number'"
      ]
     },
     "execution_count": 29,
     "metadata": {},
     "output_type": "execute_result"
    }
   ],
   "source": [
    "happy(32)"
   ]
  },
  {
   "cell_type": "markdown",
   "metadata": {},
   "source": [
    "4. Write a Python program to print all happy numbers between 1 and 100?\n"
   ]
  },
  {
   "cell_type": "code",
   "execution_count": 34,
   "metadata": {},
   "outputs": [
    {
     "name": "stdout",
     "output_type": "stream",
     "text": [
      "1\n",
      "7\n",
      "10\n",
      "13\n",
      "19\n",
      "23\n",
      "28\n",
      "31\n",
      "32\n",
      "44\n",
      "49\n",
      "68\n",
      "70\n",
      "79\n",
      "82\n",
      "86\n",
      "91\n",
      "94\n",
      "97\n",
      "100\n"
     ]
    }
   ],
   "source": [
    "for i in range(1,101):\n",
    "    if happy(i) == \"Number is happy number\":\n",
    "        print(i)"
   ]
  },
  {
   "cell_type": "markdown",
   "metadata": {},
   "source": [
    "5. Write a Python program to determine whether the given number is a Harshad Number?\n"
   ]
  },
  {
   "cell_type": "code",
   "execution_count": 37,
   "metadata": {},
   "outputs": [],
   "source": [
    "def harshad(nu):       \n",
    "    b_1 = nu\n",
    "    xx = nu\n",
    "    n_1 = 0\n",
    "    c =[]\n",
    "    sum = 0\n",
    "    while b_1 > 0:\n",
    "        b_1 //= 10\n",
    "        n_1 += 1\n",
    "\n",
    "    for i in range(1,n_1+1):\n",
    "        a = xx % 10**i\n",
    "        d = xx - a\n",
    "        xx = d \n",
    "        c.append(a/(10**(i-1)))\n",
    "        \n",
    "    for i in range(n_1):\n",
    "        sum = sum + c[i]\n",
    "    if nu % sum == 0:\n",
    "        print(\" {} is Harshad number\". format(nu))"
   ]
  },
  {
   "cell_type": "code",
   "execution_count": 38,
   "metadata": {},
   "outputs": [
    {
     "name": "stdout",
     "output_type": "stream",
     "text": [
      " 21 is Harshad number\n"
     ]
    }
   ],
   "source": [
    "harshad(21)"
   ]
  },
  {
   "cell_type": "markdown",
   "metadata": {},
   "source": [
    "6. Write a Python program to print all pronic numbers between 1 and 100?"
   ]
  },
  {
   "cell_type": "code",
   "execution_count": null,
   "metadata": {},
   "outputs": [],
   "source": [
    "for i in range(1,101):\n",
    "    harshad(i)"
   ]
  }
 ],
 "metadata": {
  "kernelspec": {
   "display_name": "Python 3",
   "language": "python",
   "name": "python3"
  },
  "language_info": {
   "codemirror_mode": {
    "name": "ipython",
    "version": 3
   },
   "file_extension": ".py",
   "mimetype": "text/x-python",
   "name": "python",
   "nbconvert_exporter": "python",
   "pygments_lexer": "ipython3",
   "version": "3.8.3"
  }
 },
 "nbformat": 4,
 "nbformat_minor": 4
}
