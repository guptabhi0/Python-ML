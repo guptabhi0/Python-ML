{
 "cells": [
  {
   "cell_type": "markdown",
   "metadata": {},
   "source": [
    "1. Write a Python program to Extract Unique values dictionary values?\n"
   ]
  },
  {
   "cell_type": "code",
   "execution_count": 1,
   "metadata": {},
   "outputs": [],
   "source": [
    "def unique(**a):\n",
    "        try:\n",
    "            A = []\n",
    "            for i in a.values():\n",
    "                for j in i:\n",
    "                    A.append(j)\n",
    "            A = set(A)\n",
    "            return A\n",
    "        except Exception as e:\n",
    "            print(str(e))"
   ]
  },
  {
   "cell_type": "code",
   "execution_count": 2,
   "metadata": {},
   "outputs": [
    {
     "data": {
      "text/plain": [
       "{1234567890, 22, 3, 4, 5, 6, 8, 9, 'Sharma'}"
      ]
     },
     "execution_count": 2,
     "metadata": {},
     "output_type": "execute_result"
    }
   ],
   "source": [
    "unique(Firstname=[22,3,5,6,9,6,4,\"Sharma\",\"Sharma\"], Lastname=[\"Sharma\",8,9], Age=[22,5], Phone=[1234567890])"
   ]
  },
  {
   "cell_type": "markdown",
   "metadata": {},
   "source": [
    "2. Write a Python program to find the sum of all items in a dictionary?\n"
   ]
  },
  {
   "cell_type": "code",
   "execution_count": 3,
   "metadata": {},
   "outputs": [],
   "source": [
    "def sum_s(**a):\n",
    "    try:\n",
    "        sum = \"\"\n",
    "        for i in a.items():\n",
    "            sum = sum + \" \"+ str(i[1])\n",
    "        return sum\n",
    "    \n",
    "    except Exception as e:\n",
    "        print(str(e))\n"
   ]
  },
  {
   "cell_type": "code",
   "execution_count": 4,
   "metadata": {},
   "outputs": [
    {
     "data": {
      "text/plain": [
       "' Wood johnwood@nomail.com Wakanda 25 98765432'"
      ]
     },
     "execution_count": 4,
     "metadata": {},
     "output_type": "execute_result"
    }
   ],
   "source": [
    "sum_s(Lastname=\"Wood\", Email=\"johnwood@nomail.com\", Country=\"Wakanda\", Age=25, Phone=98765432)"
   ]
  },
  {
   "cell_type": "code",
   "execution_count": 5,
   "metadata": {},
   "outputs": [],
   "source": [
    "def sum_i(**a):\n",
    "    try:\n",
    "        sum = 0\n",
    "        for i in a.values():\n",
    "            sum = sum + i\n",
    "        return sum\n",
    "    except Exception as e:\n",
    "        print(str(e))"
   ]
  },
  {
   "cell_type": "code",
   "execution_count": 6,
   "metadata": {},
   "outputs": [
    {
     "data": {
      "text/plain": [
       "1234567912"
      ]
     },
     "execution_count": 6,
     "metadata": {},
     "output_type": "execute_result"
    }
   ],
   "source": [
    "sum_i(Age=22, Phone=1234567890)"
   ]
  },
  {
   "cell_type": "markdown",
   "metadata": {},
   "source": [
    "3. Write a Python program to Merging two Dictionaries?\n"
   ]
  },
  {
   "cell_type": "code",
   "execution_count": 7,
   "metadata": {},
   "outputs": [],
   "source": [
    "def Merge_d(d1, d2):\n",
    "    try:\n",
    "        merge = {**d1, **d2}\n",
    "        return merge\n",
    "    except Exception as e:\n",
    "        print(str(e))"
   ]
  },
  {
   "cell_type": "code",
   "execution_count": 8,
   "metadata": {},
   "outputs": [
    {
     "data": {
      "text/plain": [
       "{'1': 'abc', '2': 'abc', '3': 'abcd', 't1': 'abc', 't2': 'abc', 't3': 'abcd'}"
      ]
     },
     "execution_count": 8,
     "metadata": {},
     "output_type": "execute_result"
    }
   ],
   "source": [
    "Merge_d({\"1\": \"abc\", \"2\":\"abc\", \"3\": \"abcd\"},{\"t1\": \"abc\", \"t2\":\"abc\", \"t3\": \"abcd\"})"
   ]
  },
  {
   "cell_type": "markdown",
   "metadata": {},
   "source": [
    "4. Write a Python program to convert key-values list to flat dictionary?\n"
   ]
  },
  {
   "cell_type": "code",
   "execution_count": 9,
   "metadata": {},
   "outputs": [
    {
     "data": {
      "text/plain": [
       "{1: 'mon', 2: 'tue', 3: 'wed'}"
      ]
     },
     "execution_count": 9,
     "metadata": {},
     "output_type": "execute_result"
    }
   ],
   "source": [
    "from itertools import product  \n",
    "dic = {\"day\": [1,2,3],\"name\": [\"mon\", \"tue\", \"wed\"]}\n",
    "f_dic = dict(zip(dic[\"day\"], dic[\"name\"]))\n",
    "f_dic\n"
   ]
  },
  {
   "cell_type": "markdown",
   "metadata": {},
   "source": [
    "5. Write a Python program to insertion at the beginning in OrderedDict?\n"
   ]
  },
  {
   "cell_type": "code",
   "execution_count": 10,
   "metadata": {},
   "outputs": [],
   "source": [
    "def order_list(a,b):\n",
    "    try:\n",
    "        from collections import OrderedDict\n",
    "        a = OrderedDict(a)\n",
    "        b = OrderedDict(b)\n",
    "        Insert = OrderedDict(list(a.items()) + list(b.items()))\n",
    "        return Insert\n",
    "    except Exception as e:\n",
    "        print(str(e))\n",
    "\n"
   ]
  },
  {
   "cell_type": "code",
   "execution_count": 11,
   "metadata": {},
   "outputs": [
    {
     "data": {
      "text/plain": [
       "OrderedDict([('D', '400'), ('A', '100'), ('B', '200'), ('C', '300')])"
      ]
     },
     "execution_count": 11,
     "metadata": {},
     "output_type": "execute_result"
    }
   ],
   "source": [
    "order_list([(\"D\", '400')], [('A', '100'), ('B', '200'), ('C', '300')])"
   ]
  },
  {
   "cell_type": "markdown",
   "metadata": {},
   "source": [
    "6. Write a Python program to check order of character in string using OrderedDict()?\n"
   ]
  },
  {
   "cell_type": "code",
   "execution_count": 12,
   "metadata": {},
   "outputs": [],
   "source": [
    "def checkOrder(input, pattern):\n",
    "    from collections import OrderedDict\n",
    "    try:\n",
    "        dict = OrderedDict.fromkeys(input)\n",
    "        ptrlen = 0\n",
    "        for key,value in dict.items():\n",
    "            if key == pattern[ptrlen]:\n",
    "                ptrlen += 1\n",
    "            if ptrlen == len(pattern):\n",
    "                return \"True\"\n",
    "        return \"False\"\n",
    "    \n",
    "    except Exception as e:\n",
    "        return str(e)\n"
   ]
  },
  {
   "cell_type": "code",
   "execution_count": 13,
   "metadata": {},
   "outputs": [
    {
     "data": {
      "text/plain": [
       "'True'"
      ]
     },
     "execution_count": 13,
     "metadata": {},
     "output_type": "execute_result"
    }
   ],
   "source": [
    "checkOrder(\"engineer\", \"en\")"
   ]
  },
  {
   "cell_type": "markdown",
   "metadata": {},
   "source": [
    "7. Write a Python program to sort Python Dictionaries by Key or Value?"
   ]
  },
  {
   "cell_type": "code",
   "execution_count": 14,
   "metadata": {},
   "outputs": [],
   "source": [
    "def sort_d(sort_type):\n",
    "    '''\n",
    "    while input sort_type = \"key\" then dict will be sorrted on the \n",
    "    basis of key value pair else it will be sorted on the basis of value of dict\n",
    "    '''\n",
    "    a = {}\n",
    "    a[1] = 'jshv'\n",
    "    a[4] = 'jhvb'\n",
    "    a[3] = 'hsbv'\n",
    "    a[2] = 'ahb'\n",
    "    if 'key' == str(sort_type):\n",
    "        for i in sorted(a.keys()):\n",
    "            print(i, end = \" \")\n",
    "    else:\n",
    "        for i in sorted(a.values()):\n",
    "            print(i, end = \" \")"
   ]
  },
  {
   "cell_type": "code",
   "execution_count": 15,
   "metadata": {},
   "outputs": [
    {
     "name": "stdout",
     "output_type": "stream",
     "text": [
      "ahb hsbv jhvb jshv "
     ]
    }
   ],
   "source": [
    "sort_d('keys')"
   ]
  }
 ],
 "metadata": {
  "kernelspec": {
   "display_name": "Python 3",
   "language": "python",
   "name": "python3"
  },
  "language_info": {
   "codemirror_mode": {
    "name": "ipython",
    "version": 3
   },
   "file_extension": ".py",
   "mimetype": "text/x-python",
   "name": "python",
   "nbconvert_exporter": "python",
   "pygments_lexer": "ipython3",
   "version": "3.8.3"
  }
 },
 "nbformat": 4,
 "nbformat_minor": 4
}
