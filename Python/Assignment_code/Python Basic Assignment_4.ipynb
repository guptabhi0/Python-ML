{
 "cells": [
  {
   "cell_type": "markdown",
   "metadata": {},
   "source": [
    "1. Write a Python Program to Find the Factorial of a Number?\n"
   ]
  },
  {
   "cell_type": "code",
   "execution_count": 1,
   "metadata": {
    "scrolled": true
   },
   "outputs": [
    {
     "name": "stdout",
     "output_type": "stream",
     "text": [
      "Enter a number:3\n",
      "6\n"
     ]
    }
   ],
   "source": [
    "a = int(input('Enter a number:'))\n",
    "fact = 1\n",
    "for i in range(1,a+1):\n",
    "    fact = fact*i\n",
    "print(fact)"
   ]
  },
  {
   "cell_type": "markdown",
   "metadata": {},
   "source": [
    "2. Write a Python Program to Display the multiplication Table?\n"
   ]
  },
  {
   "cell_type": "code",
   "execution_count": 2,
   "metadata": {},
   "outputs": [
    {
     "name": "stdout",
     "output_type": "stream",
     "text": [
      "Enter a number:4\n",
      "4 * 1 = 4\n",
      "4 * 2 = 8\n",
      "4 * 3 = 12\n",
      "4 * 4 = 16\n",
      "4 * 5 = 20\n",
      "4 * 6 = 24\n",
      "4 * 7 = 28\n",
      "4 * 8 = 32\n",
      "4 * 9 = 36\n",
      "4 * 10 = 40\n"
     ]
    }
   ],
   "source": [
    "t = int(input('Enter a number:'))\n",
    "\n",
    "for i in range(1,11):\n",
    "    print(\"{} * {} = {}\".format(t,i,t*i))"
   ]
  },
  {
   "cell_type": "markdown",
   "metadata": {},
   "source": [
    "3. Write a Python Program to Print the Fibonacci sequence?\n"
   ]
  },
  {
   "cell_type": "code",
   "execution_count": 3,
   "metadata": {
    "scrolled": true
   },
   "outputs": [
    {
     "name": "stdout",
     "output_type": "stream",
     "text": [
      "Enter a sequence number:4\n",
      "0\n",
      "1\n",
      "1\n",
      "2\n"
     ]
    }
   ],
   "source": [
    "b = int(input('Enter a sequence number:'))\n",
    "\n",
    "n1 ,n2 = 0,1\n",
    "count = 0\n",
    "while count < b:\n",
    "        print(n1)\n",
    "        nth = n1 + n2\n",
    "        # update values\n",
    "        n1 = n2\n",
    "        n2 = nth\n",
    "        count += 1"
   ]
  },
  {
   "cell_type": "markdown",
   "metadata": {},
   "source": [
    "4. Write a Python Program to Check Armstrong Number"
   ]
  },
  {
   "cell_type": "code",
   "execution_count": 9,
   "metadata": {},
   "outputs": [
    {
     "name": "stdout",
     "output_type": "stream",
     "text": [
      "Enter a number to Check Armstrong Number:370\n",
      "0.0\n",
      "7.0\n",
      "3.0\n"
     ]
    }
   ],
   "source": [
    "b_1 = int(input('Enter a number to Check Armstrong Number:'))\n",
    "k1 = b_1\n",
    "xx = b_1\n",
    "c = []\n",
    "\n",
    "n = 0\n",
    "while b_1 !=0:\n",
    "    b_1 //= 10\n",
    "    n += 1\n",
    "    \n",
    "for i in range(1,n+1):\n",
    "    a = xx % 10**i\n",
    "    d = xx - a\n",
    "    xx = d \n",
    "    c.append(a/(10**(i-1)))\n",
    "    print(c[i-1])\n"
   ]
  },
  {
   "cell_type": "code",
   "execution_count": 10,
   "metadata": {},
   "outputs": [
    {
     "name": "stdout",
     "output_type": "stream",
     "text": [
      "370.0\n",
      "The entered number is an Armstrong number\n"
     ]
    }
   ],
   "source": [
    "e = 0\n",
    "for i in c:\n",
    "    e = e + i*i*i\n",
    "print(e)\n",
    "if e == k1: \n",
    "    print('The entered number {} is an Armstrong number'.format(k1))\n",
    "else: \n",
    "    print('The entered number {} is not an Armstrong number'.format(k1))"
   ]
  },
  {
   "cell_type": "markdown",
   "metadata": {},
   "source": [
    "5. Write a Python Program to Find Armstrong Number in an Interval"
   ]
  },
  {
   "cell_type": "code",
   "execution_count": 24,
   "metadata": {
    "scrolled": true
   },
   "outputs": [
    {
     "name": "stdout",
     "output_type": "stream",
     "text": [
      "Enter a number upper bound to Check Armstrong Number:500\n",
      "Enter a number lower bound to Check Armstrong Number:250\n",
      "The number 370 is an Armstrong number\n",
      "The number 371 is an Armstrong number\n",
      "The number 407 is an Armstrong number\n"
     ]
    }
   ],
   "source": [
    "b1 = int(input('Enter a number upper bound to Check Armstrong Number:'))\n",
    "b2 = int(input('Enter a number lower bound to Check Armstrong Number:'))\n",
    "\n",
    "\n",
    "for j in range(b2, b1+1):\n",
    "    #print(j)\n",
    "    n_1 = 0\n",
    "    x_1 = j\n",
    "    m = j\n",
    "    e = 0\n",
    "    c1 = []\n",
    "    #print(j)\n",
    "    while j !=0:\n",
    "        j //= 10\n",
    "        n_1 += 1\n",
    "\n",
    "    for i in range(1,n_1+1):\n",
    "        a = x_1 % 10**i\n",
    "        d = x_1 - a\n",
    "        x_1 = d \n",
    "        c1.append(a/(10**(i-1)))\n",
    "        #print(c1[i-1])\n",
    "    #print(m)\n",
    "    for ii in c1:\n",
    "        e = e + ii*ii*ii\n",
    "    #print(e)\n",
    "    if e == m: \n",
    "        print('The number {} is an Armstrong number'.format(m))\n",
    "   "
   ]
  },
  {
   "cell_type": "markdown",
   "metadata": {},
   "source": [
    "6. Write a Python Program to Find the Sum of Natural Numbers"
   ]
  },
  {
   "cell_type": "code",
   "execution_count": null,
   "metadata": {},
   "outputs": [],
   "source": [
    "N = int(input(\"enter the value upto with sum is required:\"))\n",
    "sum = 0\n",
    "for i in range(1,N+1):\n",
    "    sum = sum + i\n",
    "print(\"the sum of the natural number upto {} is equal: {}\".format(N, sum))"
   ]
  },
  {
   "cell_type": "code",
   "execution_count": null,
   "metadata": {},
   "outputs": [],
   "source": []
  }
 ],
 "metadata": {
  "kernelspec": {
   "display_name": "Python 3",
   "language": "python",
   "name": "python3"
  },
  "language_info": {
   "codemirror_mode": {
    "name": "ipython",
    "version": 3
   },
   "file_extension": ".py",
   "mimetype": "text/x-python",
   "name": "python",
   "nbconvert_exporter": "python",
   "pygments_lexer": "ipython3",
   "version": "3.8.3"
  }
 },
 "nbformat": 4,
 "nbformat_minor": 4
}
